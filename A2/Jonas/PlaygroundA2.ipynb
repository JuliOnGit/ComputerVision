{
 "cells": [
  {
   "cell_type": "code",
   "execution_count": 1,
   "metadata": {},
   "outputs": [],
   "source": [
    "import numpy as np\n",
    "import cv2\n",
    "import os"
   ]
  },
  {
   "cell_type": "code",
   "execution_count": 2,
   "metadata": {},
   "outputs": [],
   "source": [
    "hog = cv2.HOGDescriptor()"
   ]
  },
  {
   "cell_type": "markdown",
   "metadata": {},
   "source": [
    "# Get data"
   ]
  },
  {
   "cell_type": "code",
   "execution_count": 3,
   "metadata": {},
   "outputs": [],
   "source": [
    "samples = []\n",
    "labels = [] "
   ]
  },
  {
   "cell_type": "markdown",
   "metadata": {},
   "source": [
    "### Positive"
   ]
  },
  {
   "cell_type": "code",
   "execution_count": 4,
   "metadata": {},
   "outputs": [
    {
     "name": "stdout",
     "output_type": "stream",
     "text": [
      "C:\\Users\\Jonas\\Documents\\UniProjekte\\ComputerVision\\A2\\data\\train\\p\n"
     ]
    }
   ],
   "source": [
    "cd ../data/train/p"
   ]
  },
  {
   "cell_type": "code",
   "execution_count": 5,
   "metadata": {},
   "outputs": [],
   "source": [
    "files = [f for f in os.listdir('.') if os.path.isfile(f)]\n",
    "for f in files:\n",
    "    img = cv2.imread(f, 1)\n",
    "    img = cv2.resize(img, (70,134))\n",
    "    hist = hog.compute(img)\n",
    "    samples.append(hist)\n",
    "    labels.append(1)"
   ]
  },
  {
   "cell_type": "markdown",
   "metadata": {},
   "source": [
    "### Negative"
   ]
  },
  {
   "cell_type": "code",
   "execution_count": 6,
   "metadata": {},
   "outputs": [
    {
     "name": "stdout",
     "output_type": "stream",
     "text": [
      "C:\\Users\\Jonas\\Documents\\UniProjekte\\ComputerVision\\A2\\data\\train\\n\n"
     ]
    }
   ],
   "source": [
    "cd ../n"
   ]
  },
  {
   "cell_type": "code",
   "execution_count": 7,
   "metadata": {},
   "outputs": [],
   "source": [
    "files = [f for f in os.listdir('.') if os.path.isfile(f)]\n",
    "for f in files:\n",
    "    img = cv2.imread(f, 1)\n",
    "    img = cv2.resize(img, (70,134))\n",
    "    hist = hog.compute(img)\n",
    "    samples.append(hist)\n",
    "    labels.append(0)"
   ]
  },
  {
   "cell_type": "code",
   "execution_count": 8,
   "metadata": {},
   "outputs": [
    {
     "name": "stdout",
     "output_type": "stream",
     "text": [
      "C:\\Users\\Jonas\\Documents\\UniProjekte\\ComputerVision\\A2\\Jonas\n"
     ]
    }
   ],
   "source": [
    "cd ../../../Jonas"
   ]
  },
  {
   "cell_type": "markdown",
   "metadata": {},
   "source": [
    "# Train SVM"
   ]
  },
  {
   "cell_type": "code",
   "execution_count": 9,
   "metadata": {},
   "outputs": [
    {
     "data": {
      "text/plain": [
       "True"
      ]
     },
     "execution_count": 9,
     "metadata": {},
     "output_type": "execute_result"
    }
   ],
   "source": [
    "# Convert objects to Numpy Objects\n",
    "samples = np.float32(samples)\n",
    "labels = np.array(labels)\n",
    "\n",
    "# Shuffle Samples\n",
    "rand = np.random.RandomState(321)\n",
    "shuffle = rand.permutation(len(samples))\n",
    "samples = samples[shuffle]\n",
    "labels = labels[shuffle]    \n",
    "\n",
    "# Create SVM classifier\n",
    "svm = cv2.ml.SVM_create()\n",
    "svm.setType(cv2.ml.SVM_C_SVC)\n",
    "svm.setKernel(cv2.ml.SVM_RBF) # cv2.ml.SVM_LINEAR\n",
    "# svm.setDegree(0.0)\n",
    "svm.setGamma(5.383)\n",
    "# svm.setCoef0(0.0)\n",
    "svm.setC(2.67)\n",
    "# svm.setNu(0.0)\n",
    "# svm.setP(0.0)\n",
    "# svm.setClassWeights(None)\n",
    "\n",
    "# Train\n",
    "svm.train(samples, cv2.ml.ROW_SAMPLE, labels)"
   ]
  },
  {
   "cell_type": "markdown",
   "metadata": {},
   "source": [
    "# Make predictions"
   ]
  },
  {
   "cell_type": "code",
   "execution_count": 10,
   "metadata": {},
   "outputs": [],
   "source": [
    "samples_test = []\n",
    "labels_test = [] "
   ]
  },
  {
   "cell_type": "markdown",
   "metadata": {},
   "source": [
    "### Positive"
   ]
  },
  {
   "cell_type": "code",
   "execution_count": 11,
   "metadata": {},
   "outputs": [
    {
     "name": "stdout",
     "output_type": "stream",
     "text": [
      "C:\\Users\\Jonas\\Documents\\UniProjekte\\ComputerVision\\A2\\data\\validation\\p\n"
     ]
    }
   ],
   "source": [
    "cd ../data/validation/p"
   ]
  },
  {
   "cell_type": "code",
   "execution_count": 12,
   "metadata": {},
   "outputs": [],
   "source": [
    "files = [f for f in os.listdir('.') if os.path.isfile(f)]\n",
    "for f in files:\n",
    "    img = cv2.imread(f, 1)\n",
    "    hist = hog.compute(img)\n",
    "    samples_test.append(hist)\n",
    "    labels_test.append(1)"
   ]
  },
  {
   "cell_type": "markdown",
   "metadata": {},
   "source": [
    "### Negative"
   ]
  },
  {
   "cell_type": "code",
   "execution_count": 13,
   "metadata": {},
   "outputs": [
    {
     "name": "stdout",
     "output_type": "stream",
     "text": [
      "C:\\Users\\Jonas\\Documents\\UniProjekte\\ComputerVision\\A2\\data\\validation\\n\n"
     ]
    }
   ],
   "source": [
    "cd ../n"
   ]
  },
  {
   "cell_type": "code",
   "execution_count": 14,
   "metadata": {},
   "outputs": [],
   "source": [
    "files = [f for f in os.listdir('.') if os.path.isfile(f)]\n",
    "for f in files:\n",
    "    img = cv2.imread(f, 1)\n",
    "    hist = hog.compute(img)\n",
    "    samples_test.append(hist)\n",
    "    labels_test.append(0)"
   ]
  },
  {
   "cell_type": "code",
   "execution_count": 15,
   "metadata": {},
   "outputs": [
    {
     "name": "stdout",
     "output_type": "stream",
     "text": [
      "C:\\Users\\Jonas\\Documents\\UniProjekte\\ComputerVision\\A2\\Jonas\n"
     ]
    }
   ],
   "source": [
    "cd ../../../Jonas"
   ]
  },
  {
   "cell_type": "code",
   "execution_count": 16,
   "metadata": {},
   "outputs": [],
   "source": [
    "# Convert objects to Numpy Objects\n",
    "samples_test = np.float32(samples_test)\n",
    "labels_test = np.array(labels_test)"
   ]
  },
  {
   "cell_type": "markdown",
   "metadata": {},
   "source": [
    "# Evaluate"
   ]
  },
  {
   "cell_type": "code",
   "execution_count": 17,
   "metadata": {
    "scrolled": true
   },
   "outputs": [
    {
     "name": "stdout",
     "output_type": "stream",
     "text": [
      "Accuracy: 80.40 %\n"
     ]
    }
   ],
   "source": [
    "resp = svm.predict(samples_test)[1].ravel()\n",
    "\n",
    "acc = (labels_test == resp).mean()\n",
    "print('Accuracy: %.2f %%' % (acc*100))"
   ]
  },
  {
   "cell_type": "markdown",
   "metadata": {},
   "source": [
    "# Run on test data"
   ]
  },
  {
   "cell_type": "code",
   "execution_count": 18,
   "metadata": {},
   "outputs": [
    {
     "name": "stdout",
     "output_type": "stream",
     "text": [
      "C:\\Users\\Jonas\\Documents\\UniProjekte\\ComputerVision\\A2\\data\n"
     ]
    }
   ],
   "source": [
    "cd ../data"
   ]
  },
  {
   "cell_type": "code",
   "execution_count": 19,
   "metadata": {},
   "outputs": [],
   "source": [
    "with open('testFiles.txt') as f:\n",
    "    content = f.readlines()\n",
    "content = [x.strip() for x in content] "
   ]
  },
  {
   "cell_type": "code",
   "execution_count": 20,
   "metadata": {},
   "outputs": [
    {
     "name": "stdout",
     "output_type": "stream",
     "text": [
      "C:\\Users\\Jonas\\Documents\\UniProjekte\\ComputerVision\\A2\\data\\test\n"
     ]
    }
   ],
   "source": [
    "cd test"
   ]
  },
  {
   "cell_type": "code",
   "execution_count": 21,
   "metadata": {},
   "outputs": [],
   "source": [
    "test_data = []\n",
    "for x in content:\n",
    "    img = cv2.imread(x, 1)\n",
    "    hist = hog.compute(img)\n",
    "    test_data.append(hist)"
   ]
  },
  {
   "cell_type": "code",
   "execution_count": 22,
   "metadata": {},
   "outputs": [
    {
     "name": "stdout",
     "output_type": "stream",
     "text": [
      "C:\\Users\\Jonas\\Documents\\UniProjekte\\ComputerVision\\A2\\Jonas\n"
     ]
    }
   ],
   "source": [
    "cd ../../Jonas"
   ]
  },
  {
   "cell_type": "code",
   "execution_count": 23,
   "metadata": {},
   "outputs": [],
   "source": [
    "# Convert objects to Numpy Objects\n",
    "test_data = np.float32(test_data)"
   ]
  },
  {
   "cell_type": "code",
   "execution_count": 24,
   "metadata": {},
   "outputs": [
    {
     "name": "stdout",
     "output_type": "stream",
     "text": [
      "[0. 0. 0. ... 0. 0. 0.]\n"
     ]
    }
   ],
   "source": [
    "result = svm.predict(test_data)[1].ravel()\n",
    "print(result)"
   ]
  },
  {
   "cell_type": "markdown",
   "metadata": {},
   "source": [
    "# Verification"
   ]
  },
  {
   "cell_type": "code",
   "execution_count": 25,
   "metadata": {},
   "outputs": [
    {
     "data": {
      "text/plain": [
       "{0.0: 2838}"
      ]
     },
     "execution_count": 25,
     "metadata": {},
     "output_type": "execute_result"
    }
   ],
   "source": [
    "unique, counts = np.unique(result, return_counts=True)\n",
    "dict(zip(unique, counts))"
   ]
  },
  {
   "cell_type": "markdown",
   "metadata": {},
   "source": [
    "Problem: SVM predicts 0 always"
   ]
  }
 ],
 "metadata": {
  "kernelspec": {
   "display_name": "Python 3",
   "language": "python",
   "name": "python3"
  },
  "language_info": {
   "codemirror_mode": {
    "name": "ipython",
    "version": 3
   },
   "file_extension": ".py",
   "mimetype": "text/x-python",
   "name": "python",
   "nbconvert_exporter": "python",
   "pygments_lexer": "ipython3",
   "version": "3.8.1"
  }
 },
 "nbformat": 4,
 "nbformat_minor": 4
}
